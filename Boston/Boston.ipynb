{
 "cells": [
  {
   "cell_type": "markdown",
   "metadata": {},
   "source": [
    "# Boston"
   ]
  },
  {
   "cell_type": "code",
   "execution_count": 3,
   "metadata": {},
   "outputs": [],
   "source": [
    "# Load pandas\n",
    "import pandas as pd\n",
    "import matplotlib.pyplot as plt\n",
    "\n",
    "# Read CSV file into DataFrame df\n",
    "df_total = pd.read_csv('crime_bos.csv',  encoding = \"latin1\")\n",
    "#df_crime = df_total[df_total['IS_CRIME']==1]\n",
    "\n",
    "df = df_total"
   ]
  },
  {
   "cell_type": "code",
   "execution_count": 4,
   "metadata": {},
   "outputs": [
    {
     "data": {
      "text/html": [
       "<div>\n",
       "<style scoped>\n",
       "    .dataframe tbody tr th:only-of-type {\n",
       "        vertical-align: middle;\n",
       "    }\n",
       "\n",
       "    .dataframe tbody tr th {\n",
       "        vertical-align: top;\n",
       "    }\n",
       "\n",
       "    .dataframe thead th {\n",
       "        text-align: right;\n",
       "    }\n",
       "</style>\n",
       "<table border=\"1\" class=\"dataframe\">\n",
       "  <thead>\n",
       "    <tr style=\"text-align: right;\">\n",
       "      <th></th>\n",
       "      <th>INCIDENT_NUMBER</th>\n",
       "      <th>OFFENSE_CODE</th>\n",
       "      <th>OFFENSE_CODE_GROUP</th>\n",
       "      <th>OFFENSE_DESCRIPTION</th>\n",
       "      <th>DISTRICT</th>\n",
       "      <th>REPORTING_AREA</th>\n",
       "      <th>SHOOTING</th>\n",
       "      <th>OCCURRED_ON_DATE</th>\n",
       "      <th>YEAR</th>\n",
       "      <th>MONTH</th>\n",
       "      <th>DAY_OF_WEEK</th>\n",
       "      <th>HOUR</th>\n",
       "      <th>UCR_PART</th>\n",
       "      <th>STREET</th>\n",
       "      <th>Lat</th>\n",
       "      <th>Long</th>\n",
       "      <th>Location</th>\n",
       "    </tr>\n",
       "  </thead>\n",
       "  <tbody>\n",
       "    <tr>\n",
       "      <th>0</th>\n",
       "      <td>I182070945</td>\n",
       "      <td>619</td>\n",
       "      <td>Larceny</td>\n",
       "      <td>LARCENY ALL OTHERS</td>\n",
       "      <td>D14</td>\n",
       "      <td>808</td>\n",
       "      <td>NaN</td>\n",
       "      <td>2018-09-02 13:00:00</td>\n",
       "      <td>2018</td>\n",
       "      <td>9</td>\n",
       "      <td>Sunday</td>\n",
       "      <td>13</td>\n",
       "      <td>Part One</td>\n",
       "      <td>LINCOLN ST</td>\n",
       "      <td>42.357791</td>\n",
       "      <td>-71.139371</td>\n",
       "      <td>(42.35779134, -71.13937053)</td>\n",
       "    </tr>\n",
       "    <tr>\n",
       "      <th>1</th>\n",
       "      <td>I182070943</td>\n",
       "      <td>1402</td>\n",
       "      <td>Vandalism</td>\n",
       "      <td>VANDALISM</td>\n",
       "      <td>C11</td>\n",
       "      <td>347</td>\n",
       "      <td>NaN</td>\n",
       "      <td>2018-08-21 00:00:00</td>\n",
       "      <td>2018</td>\n",
       "      <td>8</td>\n",
       "      <td>Tuesday</td>\n",
       "      <td>0</td>\n",
       "      <td>Part Two</td>\n",
       "      <td>HECLA ST</td>\n",
       "      <td>42.306821</td>\n",
       "      <td>-71.060300</td>\n",
       "      <td>(42.30682138, -71.06030035)</td>\n",
       "    </tr>\n",
       "    <tr>\n",
       "      <th>2</th>\n",
       "      <td>I182070941</td>\n",
       "      <td>3410</td>\n",
       "      <td>Towed</td>\n",
       "      <td>TOWED MOTOR VEHICLE</td>\n",
       "      <td>D4</td>\n",
       "      <td>151</td>\n",
       "      <td>NaN</td>\n",
       "      <td>2018-09-03 19:27:00</td>\n",
       "      <td>2018</td>\n",
       "      <td>9</td>\n",
       "      <td>Monday</td>\n",
       "      <td>19</td>\n",
       "      <td>Part Three</td>\n",
       "      <td>CAZENOVE ST</td>\n",
       "      <td>42.346589</td>\n",
       "      <td>-71.072429</td>\n",
       "      <td>(42.34658879, -71.07242943)</td>\n",
       "    </tr>\n",
       "    <tr>\n",
       "      <th>3</th>\n",
       "      <td>I182070940</td>\n",
       "      <td>3114</td>\n",
       "      <td>Investigate Property</td>\n",
       "      <td>INVESTIGATE PROPERTY</td>\n",
       "      <td>D4</td>\n",
       "      <td>272</td>\n",
       "      <td>NaN</td>\n",
       "      <td>2018-09-03 21:16:00</td>\n",
       "      <td>2018</td>\n",
       "      <td>9</td>\n",
       "      <td>Monday</td>\n",
       "      <td>21</td>\n",
       "      <td>Part Three</td>\n",
       "      <td>NEWCOMB ST</td>\n",
       "      <td>42.334182</td>\n",
       "      <td>-71.078664</td>\n",
       "      <td>(42.33418175, -71.07866441)</td>\n",
       "    </tr>\n",
       "    <tr>\n",
       "      <th>4</th>\n",
       "      <td>I182070938</td>\n",
       "      <td>3114</td>\n",
       "      <td>Investigate Property</td>\n",
       "      <td>INVESTIGATE PROPERTY</td>\n",
       "      <td>B3</td>\n",
       "      <td>421</td>\n",
       "      <td>NaN</td>\n",
       "      <td>2018-09-03 21:05:00</td>\n",
       "      <td>2018</td>\n",
       "      <td>9</td>\n",
       "      <td>Monday</td>\n",
       "      <td>21</td>\n",
       "      <td>Part Three</td>\n",
       "      <td>DELHI ST</td>\n",
       "      <td>42.275365</td>\n",
       "      <td>-71.090361</td>\n",
       "      <td>(42.27536542, -71.09036101)</td>\n",
       "    </tr>\n",
       "    <tr>\n",
       "      <th>...</th>\n",
       "      <td>...</td>\n",
       "      <td>...</td>\n",
       "      <td>...</td>\n",
       "      <td>...</td>\n",
       "      <td>...</td>\n",
       "      <td>...</td>\n",
       "      <td>...</td>\n",
       "      <td>...</td>\n",
       "      <td>...</td>\n",
       "      <td>...</td>\n",
       "      <td>...</td>\n",
       "      <td>...</td>\n",
       "      <td>...</td>\n",
       "      <td>...</td>\n",
       "      <td>...</td>\n",
       "      <td>...</td>\n",
       "      <td>...</td>\n",
       "    </tr>\n",
       "    <tr>\n",
       "      <th>319068</th>\n",
       "      <td>I050310906-00</td>\n",
       "      <td>3125</td>\n",
       "      <td>Warrant Arrests</td>\n",
       "      <td>WARRANT ARREST</td>\n",
       "      <td>D4</td>\n",
       "      <td>285</td>\n",
       "      <td>NaN</td>\n",
       "      <td>2016-06-05 17:25:00</td>\n",
       "      <td>2016</td>\n",
       "      <td>6</td>\n",
       "      <td>Sunday</td>\n",
       "      <td>17</td>\n",
       "      <td>Part Three</td>\n",
       "      <td>COVENTRY ST</td>\n",
       "      <td>42.336951</td>\n",
       "      <td>-71.085748</td>\n",
       "      <td>(42.33695098, -71.08574813)</td>\n",
       "    </tr>\n",
       "    <tr>\n",
       "      <th>319069</th>\n",
       "      <td>I030217815-08</td>\n",
       "      <td>111</td>\n",
       "      <td>Homicide</td>\n",
       "      <td>MURDER, NON-NEGLIGIENT MANSLAUGHTER</td>\n",
       "      <td>E18</td>\n",
       "      <td>520</td>\n",
       "      <td>NaN</td>\n",
       "      <td>2015-07-09 13:38:00</td>\n",
       "      <td>2015</td>\n",
       "      <td>7</td>\n",
       "      <td>Thursday</td>\n",
       "      <td>13</td>\n",
       "      <td>Part One</td>\n",
       "      <td>RIVER ST</td>\n",
       "      <td>42.255926</td>\n",
       "      <td>-71.123172</td>\n",
       "      <td>(42.25592648, -71.12317207)</td>\n",
       "    </tr>\n",
       "    <tr>\n",
       "      <th>319070</th>\n",
       "      <td>I030217815-08</td>\n",
       "      <td>3125</td>\n",
       "      <td>Warrant Arrests</td>\n",
       "      <td>WARRANT ARREST</td>\n",
       "      <td>E18</td>\n",
       "      <td>520</td>\n",
       "      <td>NaN</td>\n",
       "      <td>2015-07-09 13:38:00</td>\n",
       "      <td>2015</td>\n",
       "      <td>7</td>\n",
       "      <td>Thursday</td>\n",
       "      <td>13</td>\n",
       "      <td>Part Three</td>\n",
       "      <td>RIVER ST</td>\n",
       "      <td>42.255926</td>\n",
       "      <td>-71.123172</td>\n",
       "      <td>(42.25592648, -71.12317207)</td>\n",
       "    </tr>\n",
       "    <tr>\n",
       "      <th>319071</th>\n",
       "      <td>I010370257-00</td>\n",
       "      <td>3125</td>\n",
       "      <td>Warrant Arrests</td>\n",
       "      <td>WARRANT ARREST</td>\n",
       "      <td>E13</td>\n",
       "      <td>569</td>\n",
       "      <td>NaN</td>\n",
       "      <td>2016-05-31 19:35:00</td>\n",
       "      <td>2016</td>\n",
       "      <td>5</td>\n",
       "      <td>Tuesday</td>\n",
       "      <td>19</td>\n",
       "      <td>Part Three</td>\n",
       "      <td>NEW WASHINGTON ST</td>\n",
       "      <td>42.302333</td>\n",
       "      <td>-71.111565</td>\n",
       "      <td>(42.30233307, -71.11156487)</td>\n",
       "    </tr>\n",
       "    <tr>\n",
       "      <th>319072</th>\n",
       "      <td>142052550</td>\n",
       "      <td>3125</td>\n",
       "      <td>Warrant Arrests</td>\n",
       "      <td>WARRANT ARREST</td>\n",
       "      <td>D4</td>\n",
       "      <td>903</td>\n",
       "      <td>NaN</td>\n",
       "      <td>2015-06-22 00:12:00</td>\n",
       "      <td>2015</td>\n",
       "      <td>6</td>\n",
       "      <td>Monday</td>\n",
       "      <td>0</td>\n",
       "      <td>Part Three</td>\n",
       "      <td>WASHINGTON ST</td>\n",
       "      <td>42.333839</td>\n",
       "      <td>-71.080290</td>\n",
       "      <td>(42.33383935, -71.08029038)</td>\n",
       "    </tr>\n",
       "  </tbody>\n",
       "</table>\n",
       "<p>319073 rows × 17 columns</p>\n",
       "</div>"
      ],
      "text/plain": [
       "       INCIDENT_NUMBER  OFFENSE_CODE    OFFENSE_CODE_GROUP  \\\n",
       "0           I182070945           619               Larceny   \n",
       "1           I182070943          1402             Vandalism   \n",
       "2           I182070941          3410                 Towed   \n",
       "3           I182070940          3114  Investigate Property   \n",
       "4           I182070938          3114  Investigate Property   \n",
       "...                ...           ...                   ...   \n",
       "319068   I050310906-00          3125       Warrant Arrests   \n",
       "319069   I030217815-08           111              Homicide   \n",
       "319070   I030217815-08          3125       Warrant Arrests   \n",
       "319071   I010370257-00          3125       Warrant Arrests   \n",
       "319072       142052550          3125       Warrant Arrests   \n",
       "\n",
       "                        OFFENSE_DESCRIPTION DISTRICT REPORTING_AREA SHOOTING  \\\n",
       "0                        LARCENY ALL OTHERS      D14            808      NaN   \n",
       "1                                 VANDALISM      C11            347      NaN   \n",
       "2                       TOWED MOTOR VEHICLE       D4            151      NaN   \n",
       "3                      INVESTIGATE PROPERTY       D4            272      NaN   \n",
       "4                      INVESTIGATE PROPERTY       B3            421      NaN   \n",
       "...                                     ...      ...            ...      ...   \n",
       "319068                       WARRANT ARREST       D4            285      NaN   \n",
       "319069  MURDER, NON-NEGLIGIENT MANSLAUGHTER      E18            520      NaN   \n",
       "319070                       WARRANT ARREST      E18            520      NaN   \n",
       "319071                       WARRANT ARREST      E13            569      NaN   \n",
       "319072                       WARRANT ARREST       D4            903      NaN   \n",
       "\n",
       "           OCCURRED_ON_DATE  YEAR  MONTH DAY_OF_WEEK  HOUR    UCR_PART  \\\n",
       "0       2018-09-02 13:00:00  2018      9      Sunday    13    Part One   \n",
       "1       2018-08-21 00:00:00  2018      8     Tuesday     0    Part Two   \n",
       "2       2018-09-03 19:27:00  2018      9      Monday    19  Part Three   \n",
       "3       2018-09-03 21:16:00  2018      9      Monday    21  Part Three   \n",
       "4       2018-09-03 21:05:00  2018      9      Monday    21  Part Three   \n",
       "...                     ...   ...    ...         ...   ...         ...   \n",
       "319068  2016-06-05 17:25:00  2016      6      Sunday    17  Part Three   \n",
       "319069  2015-07-09 13:38:00  2015      7    Thursday    13    Part One   \n",
       "319070  2015-07-09 13:38:00  2015      7    Thursday    13  Part Three   \n",
       "319071  2016-05-31 19:35:00  2016      5     Tuesday    19  Part Three   \n",
       "319072  2015-06-22 00:12:00  2015      6      Monday     0  Part Three   \n",
       "\n",
       "                   STREET        Lat       Long                     Location  \n",
       "0              LINCOLN ST  42.357791 -71.139371  (42.35779134, -71.13937053)  \n",
       "1                HECLA ST  42.306821 -71.060300  (42.30682138, -71.06030035)  \n",
       "2             CAZENOVE ST  42.346589 -71.072429  (42.34658879, -71.07242943)  \n",
       "3              NEWCOMB ST  42.334182 -71.078664  (42.33418175, -71.07866441)  \n",
       "4                DELHI ST  42.275365 -71.090361  (42.27536542, -71.09036101)  \n",
       "...                   ...        ...        ...                          ...  \n",
       "319068        COVENTRY ST  42.336951 -71.085748  (42.33695098, -71.08574813)  \n",
       "319069           RIVER ST  42.255926 -71.123172  (42.25592648, -71.12317207)  \n",
       "319070           RIVER ST  42.255926 -71.123172  (42.25592648, -71.12317207)  \n",
       "319071  NEW WASHINGTON ST  42.302333 -71.111565  (42.30233307, -71.11156487)  \n",
       "319072      WASHINGTON ST  42.333839 -71.080290  (42.33383935, -71.08029038)  \n",
       "\n",
       "[319073 rows x 17 columns]"
      ]
     },
     "execution_count": 4,
     "metadata": {},
     "output_type": "execute_result"
    }
   ],
   "source": [
    "df"
   ]
  },
  {
   "cell_type": "markdown",
   "metadata": {},
   "source": [
    "\n"
   ]
  },
  {
   "cell_type": "markdown",
   "metadata": {},
   "source": [
    "## Time"
   ]
  },
  {
   "cell_type": "code",
   "execution_count": 27,
   "metadata": {},
   "outputs": [],
   "source": [
    "# Init time values\n",
    "\n",
    "df.loc[:,\"YEAR\"] = pd.to_datetime(df[\"OCCURRED_ON_DATE\"], format=\"%Y-%m-%d %H:%M:%S\").dt.year\n",
    "df = df[df[\"YEAR\"] < 2022]\n",
    "df.loc[:,\"MONTH\"] = pd.to_datetime(df[\"OCCURRED_ON_DATE\"], format=\"%Y-%m-%d %H:%M:%S\").dt.month\n",
    "df.loc[:,\"DAY\"] = pd.to_datetime(df[\"OCCURRED_ON_DATE\"], format=\"%Y-%m-%d %H:%M:%S\").dt.day\n",
    "df.loc[:,\"DOW\"] = pd.to_datetime(df[\"OCCURRED_ON_DATE\"], format=\"%Y-%m-%d %H:%M:%S\").dt.dayofweek\n",
    "df.loc[:,\"TIME\"] = pd.to_datetime(df[\"OCCURRED_ON_DATE\"], format=\"%Y-%m-%d %H:%M:%S\").dt.hour\n",
    "\n",
    "years = [2015,2016,2017,2018]"
   ]
  },
  {
   "cell_type": "code",
   "execution_count": 6,
   "metadata": {},
   "outputs": [
    {
     "data": {
      "text/plain": [
       "<AxesSubplot:xlabel='YEAR'>"
      ]
     },
     "execution_count": 6,
     "metadata": {},
     "output_type": "execute_result"
    },
    {
     "data": {
      "image/png": "[encoded data removed]",
      "text/plain": [
       "<Figure size 360x216 with 1 Axes>"
      ]
     },
     "metadata": {
      "needs_background": "light"
     },
     "output_type": "display_data"
    }
   ],
   "source": [
    "sums_years= df.groupby([\"YEAR\"])[\"YEAR\"].count()\n",
    "sums_years= sums_years.sort_index()\n",
    "sums_years.plot(x=\"Year\",kind=\"bar\", figsize=(5,3))"
   ]
  },
  {
   "cell_type": "code",
   "execution_count": 7,
   "metadata": {},
   "outputs": [
    {
     "data": {
      "text/plain": [
       "<AxesSubplot:xlabel='MONTH'>"
      ]
     },
     "execution_count": 7,
     "metadata": {},
     "output_type": "execute_result"
    },
    {
     "data": {
      "image/png": "[encoded data removed]",
      "text/plain": [
       "<Figure size 360x216 with 1 Axes>"
      ]
     },
     "metadata": {
      "needs_background": "light"
     },
     "output_type": "display_data"
    }
   ],
   "source": [
    "sums_month= df.groupby([\"MONTH\"])[\"MONTH\"].count()\n",
    "sums_month= sums_month.sort_index()\n",
    "sums_month.plot(x=\"MONTH\",kind=\"bar\", figsize=(5,3))"
   ]
  },
  {
   "cell_type": "code",
   "execution_count": 8,
   "metadata": {},
   "outputs": [
    {
     "data": {
      "text/plain": [
       "<AxesSubplot:xlabel='DAY'>"
      ]
     },
     "execution_count": 8,
     "metadata": {},
     "output_type": "execute_result"
    },
    {
     "data": {
      "image/png": "[encoded data removed]",
      "text/plain": [
       "<Figure size 360x216 with 1 Axes>"
      ]
     },
     "metadata": {
      "needs_background": "light"
     },
     "output_type": "display_data"
    }
   ],
   "source": [
    "sums_days= df.groupby([\"DAY\"])[\"DAY\"].count()\n",
    "sums_days= sums_days.sort_index()\n",
    "sums_days.plot(x=\"DAY\",kind=\"bar\", figsize=(5,3))"
   ]
  },
  {
   "cell_type": "code",
   "execution_count": 9,
   "metadata": {},
   "outputs": [
    {
     "data": {
      "text/plain": [
       "<AxesSubplot:xlabel='DOW'>"
      ]
     },
     "execution_count": 9,
     "metadata": {},
     "output_type": "execute_result"
    },
    {
     "data": {
      "image/png": "[encoded data removed]",
      "text/plain": [
       "<Figure size 360x216 with 1 Axes>"
      ]
     },
     "metadata": {
      "needs_background": "light"
     },
     "output_type": "display_data"
    }
   ],
   "source": [
    "sums_dow= df.groupby([\"DOW\"])[\"DOW\"].count()\n",
    "sums_dow= sums_dow.sort_index()\n",
    "sums_dow.plot(x=\"DAY\",kind=\"bar\", figsize=(5,3))"
   ]
  },
  {
   "cell_type": "code",
   "execution_count": 10,
   "metadata": {},
   "outputs": [
    {
     "data": {
      "text/plain": [
       "<AxesSubplot:xlabel='TIME'>"
      ]
     },
     "execution_count": 10,
     "metadata": {},
     "output_type": "execute_result"
    },
    {
     "data": {
      "image/png": "[encoded data removed]",
      "text/plain": [
       "<Figure size 1440x216 with 1 Axes>"
      ]
     },
     "metadata": {
      "needs_background": "light"
     },
     "output_type": "display_data"
    }
   ],
   "source": [
    "df_time = df[[\"TIME\", \"OFFENSE_CODE\"]].groupby([\"TIME\"])\n",
    "\n",
    "df_time.count().plot(kind=\"line\",figsize=(20,3))"
   ]
  },
  {
   "cell_type": "markdown",
   "metadata": {},
   "source": [
    "### Month graphs"
   ]
  },
  {
   "cell_type": "code",
   "execution_count": 11,
   "metadata": {},
   "outputs": [
    {
     "name": "stderr",
     "output_type": "stream",
     "text": [
      "/tmp/ipykernel_392/341281777.py:1: FutureWarning: Indexing with multiple keys (implicitly converted to a tuple of keys) will be deprecated, use a list instead.\n",
      "  df_months= df.groupby([\"YEAR\",\"MONTH\"])[\"YEAR\",\"MONTH\"].count()\n"
     ]
    },
    {
     "data": {
      "text/html": [
       "<div>\n",
       "<style scoped>\n",
       "    .dataframe tbody tr th:only-of-type {\n",
       "        vertical-align: middle;\n",
       "    }\n",
       "\n",
       "    .dataframe tbody tr th {\n",
       "        vertical-align: top;\n",
       "    }\n",
       "\n",
       "    .dataframe thead th {\n",
       "        text-align: right;\n",
       "    }\n",
       "</style>\n",
       "<table border=\"1\" class=\"dataframe\">\n",
       "  <thead>\n",
       "    <tr style=\"text-align: right;\">\n",
       "      <th></th>\n",
       "      <th></th>\n",
       "      <th>YEAR</th>\n",
       "      <th>MONTH</th>\n",
       "    </tr>\n",
       "    <tr>\n",
       "      <th>YEAR</th>\n",
       "      <th>MONTH</th>\n",
       "      <th></th>\n",
       "      <th></th>\n",
       "    </tr>\n",
       "  </thead>\n",
       "  <tbody>\n",
       "    <tr>\n",
       "      <th rowspan=\"7\" valign=\"top\">2015</th>\n",
       "      <th>6</th>\n",
       "      <td>4191</td>\n",
       "      <td>4191</td>\n",
       "    </tr>\n",
       "    <tr>\n",
       "      <th>7</th>\n",
       "      <td>8324</td>\n",
       "      <td>8324</td>\n",
       "    </tr>\n",
       "    <tr>\n",
       "      <th>8</th>\n",
       "      <td>8342</td>\n",
       "      <td>8342</td>\n",
       "    </tr>\n",
       "    <tr>\n",
       "      <th>9</th>\n",
       "      <td>8414</td>\n",
       "      <td>8414</td>\n",
       "    </tr>\n",
       "    <tr>\n",
       "      <th>10</th>\n",
       "      <td>8308</td>\n",
       "      <td>8308</td>\n",
       "    </tr>\n",
       "    <tr>\n",
       "      <th>11</th>\n",
       "      <td>7818</td>\n",
       "      <td>7818</td>\n",
       "    </tr>\n",
       "    <tr>\n",
       "      <th>12</th>\n",
       "      <td>7991</td>\n",
       "      <td>7991</td>\n",
       "    </tr>\n",
       "    <tr>\n",
       "      <th rowspan=\"12\" valign=\"top\">2016</th>\n",
       "      <th>1</th>\n",
       "      <td>7835</td>\n",
       "      <td>7835</td>\n",
       "    </tr>\n",
       "    <tr>\n",
       "      <th>2</th>\n",
       "      <td>7308</td>\n",
       "      <td>7308</td>\n",
       "    </tr>\n",
       "    <tr>\n",
       "      <th>3</th>\n",
       "      <td>8199</td>\n",
       "      <td>8199</td>\n",
       "    </tr>\n",
       "    <tr>\n",
       "      <th>4</th>\n",
       "      <td>8101</td>\n",
       "      <td>8101</td>\n",
       "    </tr>\n",
       "    <tr>\n",
       "      <th>5</th>\n",
       "      <td>8578</td>\n",
       "      <td>8578</td>\n",
       "    </tr>\n",
       "    <tr>\n",
       "      <th>6</th>\n",
       "      <td>8558</td>\n",
       "      <td>8558</td>\n",
       "    </tr>\n",
       "    <tr>\n",
       "      <th>7</th>\n",
       "      <td>8619</td>\n",
       "      <td>8619</td>\n",
       "    </tr>\n",
       "    <tr>\n",
       "      <th>8</th>\n",
       "      <td>8938</td>\n",
       "      <td>8938</td>\n",
       "    </tr>\n",
       "    <tr>\n",
       "      <th>9</th>\n",
       "      <td>8522</td>\n",
       "      <td>8522</td>\n",
       "    </tr>\n",
       "    <tr>\n",
       "      <th>10</th>\n",
       "      <td>8583</td>\n",
       "      <td>8583</td>\n",
       "    </tr>\n",
       "    <tr>\n",
       "      <th>11</th>\n",
       "      <td>7922</td>\n",
       "      <td>7922</td>\n",
       "    </tr>\n",
       "    <tr>\n",
       "      <th>12</th>\n",
       "      <td>7951</td>\n",
       "      <td>7951</td>\n",
       "    </tr>\n",
       "    <tr>\n",
       "      <th rowspan=\"12\" valign=\"top\">2017</th>\n",
       "      <th>1</th>\n",
       "      <td>7993</td>\n",
       "      <td>7993</td>\n",
       "    </tr>\n",
       "    <tr>\n",
       "      <th>2</th>\n",
       "      <td>7408</td>\n",
       "      <td>7408</td>\n",
       "    </tr>\n",
       "    <tr>\n",
       "      <th>3</th>\n",
       "      <td>8179</td>\n",
       "      <td>8179</td>\n",
       "    </tr>\n",
       "    <tr>\n",
       "      <th>4</th>\n",
       "      <td>8069</td>\n",
       "      <td>8069</td>\n",
       "    </tr>\n",
       "    <tr>\n",
       "      <th>5</th>\n",
       "      <td>8715</td>\n",
       "      <td>8715</td>\n",
       "    </tr>\n",
       "    <tr>\n",
       "      <th>6</th>\n",
       "      <td>8985</td>\n",
       "      <td>8985</td>\n",
       "    </tr>\n",
       "    <tr>\n",
       "      <th>7</th>\n",
       "      <td>9075</td>\n",
       "      <td>9075</td>\n",
       "    </tr>\n",
       "    <tr>\n",
       "      <th>8</th>\n",
       "      <td>9206</td>\n",
       "      <td>9206</td>\n",
       "    </tr>\n",
       "    <tr>\n",
       "      <th>9</th>\n",
       "      <td>8940</td>\n",
       "      <td>8940</td>\n",
       "    </tr>\n",
       "    <tr>\n",
       "      <th>10</th>\n",
       "      <td>8846</td>\n",
       "      <td>8846</td>\n",
       "    </tr>\n",
       "    <tr>\n",
       "      <th>11</th>\n",
       "      <td>7935</td>\n",
       "      <td>7935</td>\n",
       "    </tr>\n",
       "    <tr>\n",
       "      <th>12</th>\n",
       "      <td>7535</td>\n",
       "      <td>7535</td>\n",
       "    </tr>\n",
       "    <tr>\n",
       "      <th rowspan=\"9\" valign=\"top\">2018</th>\n",
       "      <th>1</th>\n",
       "      <td>7782</td>\n",
       "      <td>7782</td>\n",
       "    </tr>\n",
       "    <tr>\n",
       "      <th>2</th>\n",
       "      <td>6937</td>\n",
       "      <td>6937</td>\n",
       "    </tr>\n",
       "    <tr>\n",
       "      <th>3</th>\n",
       "      <td>7768</td>\n",
       "      <td>7768</td>\n",
       "    </tr>\n",
       "    <tr>\n",
       "      <th>4</th>\n",
       "      <td>7916</td>\n",
       "      <td>7916</td>\n",
       "    </tr>\n",
       "    <tr>\n",
       "      <th>5</th>\n",
       "      <td>8906</td>\n",
       "      <td>8906</td>\n",
       "    </tr>\n",
       "    <tr>\n",
       "      <th>6</th>\n",
       "      <td>8834</td>\n",
       "      <td>8834</td>\n",
       "    </tr>\n",
       "    <tr>\n",
       "      <th>7</th>\n",
       "      <td>8538</td>\n",
       "      <td>8538</td>\n",
       "    </tr>\n",
       "    <tr>\n",
       "      <th>8</th>\n",
       "      <td>8337</td>\n",
       "      <td>8337</td>\n",
       "    </tr>\n",
       "    <tr>\n",
       "      <th>9</th>\n",
       "      <td>667</td>\n",
       "      <td>667</td>\n",
       "    </tr>\n",
       "  </tbody>\n",
       "</table>\n",
       "</div>"
      ],
      "text/plain": [
       "            YEAR  MONTH\n",
       "YEAR MONTH             \n",
       "2015 6      4191   4191\n",
       "     7      8324   8324\n",
       "     8      8342   8342\n",
       "     9      8414   8414\n",
       "     10     8308   8308\n",
       "     11     7818   7818\n",
       "     12     7991   7991\n",
       "2016 1      7835   7835\n",
       "     2      7308   7308\n",
       "     3      8199   8199\n",
       "     4      8101   8101\n",
       "     5      8578   8578\n",
       "     6      8558   8558\n",
       "     7      8619   8619\n",
       "     8      8938   8938\n",
       "     9      8522   8522\n",
       "     10     8583   8583\n",
       "     11     7922   7922\n",
       "     12     7951   7951\n",
       "2017 1      7993   7993\n",
       "     2      7408   7408\n",
       "     3      8179   8179\n",
       "     4      8069   8069\n",
       "     5      8715   8715\n",
       "     6      8985   8985\n",
       "     7      9075   9075\n",
       "     8      9206   9206\n",
       "     9      8940   8940\n",
       "     10     8846   8846\n",
       "     11     7935   7935\n",
       "     12     7535   7535\n",
       "2018 1      7782   7782\n",
       "     2      6937   6937\n",
       "     3      7768   7768\n",
       "     4      7916   7916\n",
       "     5      8906   8906\n",
       "     6      8834   8834\n",
       "     7      8538   8538\n",
       "     8      8337   8337\n",
       "     9       667    667"
      ]
     },
     "execution_count": 11,
     "metadata": {},
     "output_type": "execute_result"
    },
    {
     "data": {
      "image/png": "[encoded data removed]",
      "text/plain": [
       "<Figure size 1440x216 with 1 Axes>"
      ]
     },
     "metadata": {
      "needs_background": "light"
     },
     "output_type": "display_data"
    }
   ],
   "source": [
    "df_months= df.groupby([\"YEAR\",\"MONTH\"])[\"YEAR\",\"MONTH\"].count()\n",
    "df_months= df_months.sort_index()\n",
    "\n",
    "df_months.plot(x=\"MONTH\",kind=\"bar\", figsize=(20,3))\n",
    "\n",
    "df_months"
   ]
  },
  {
   "cell_type": "code",
   "execution_count": 33,
   "metadata": {},
   "outputs": [
    {
     "name": "stdout",
     "output_type": "stream",
     "text": [
      "YEAR     2015    2016    2017    2018\n",
      "MONTH                                \n",
      "1         NaN  7835.0  7993.0  7782.0\n",
      "2         NaN  7308.0  7408.0  6937.0\n",
      "3         NaN  8199.0  8179.0  7768.0\n",
      "4         NaN  8101.0  8069.0  7916.0\n",
      "5         NaN  8578.0  8715.0  8906.0\n",
      "6      4191.0  8558.0  8985.0  8834.0\n",
      "7      8324.0  8619.0  9075.0  8538.0\n",
      "8      8342.0  8938.0  9206.0  8337.0\n",
      "9      8414.0  8522.0  8940.0   667.0\n",
      "10     8308.0  8583.0  8846.0     NaN\n",
      "11     7818.0  7922.0  7935.0     NaN\n",
      "12     7991.0  7951.0  7535.0     NaN\n"
     ]
    },
    {
     "data": {
      "text/plain": [
       "<AxesSubplot:xlabel='MONTH'>"
      ]
     },
     "execution_count": 33,
     "metadata": {},
     "output_type": "execute_result"
    },
    {
     "data": {
      "image/png": "[encoded data removed]",
      "text/plain": [
       "<Figure size 1440x216 with 1 Axes>"
      ]
     },
     "metadata": {
      "needs_background": "light"
     },
     "output_type": "display_data"
    }
   ],
   "source": [
    "months = [1,2,3,4,5,6,7,8,9,10,11,12]\n",
    "df_my = pd.DataFrame(data=None, columns=[\"YEAR\", \"INCIDENT_NUMBER\",\"MONTH\"])\n",
    "\n",
    "for month in [6,7,8,9,10,11,12]:\n",
    "    temp = df.loc[df['MONTH'] == month][[\"YEAR\", \"INCIDENT_NUMBER\",\"MONTH\"]]\n",
    "    for year in [2015]:\n",
    "        temp_year = temp.loc[temp['YEAR'] == year]\n",
    "        count = temp_year.groupby([\"MONTH\", \"YEAR\"]).count()\n",
    "        count = count[\"INCIDENT_NUMBER\"].loc[count.index[0]]\n",
    "        df_my.loc[len(df_my.index)] = [year, count, month]\n",
    "        \n",
    "for month in months:\n",
    "    temp = df.loc[df['MONTH'] == month][[\"YEAR\", \"INCIDENT_NUMBER\",\"MONTH\"]]\n",
    "    for year in [2016,2017]:\n",
    "        temp_year = temp.loc[temp['YEAR'] == year]\n",
    "        count = temp_year.groupby([\"MONTH\", \"YEAR\"]).count()\n",
    "        count = count[\"INCIDENT_NUMBER\"].loc[count.index[0]]\n",
    "        df_my.loc[len(df_my.index)] = [year, count, month]\n",
    "        \n",
    "for month in [1,2,3,4,5,6,7,8,9]:\n",
    "    temp = df.loc[df['MONTH'] == month][[\"YEAR\", \"INCIDENT_NUMBER\",\"MONTH\"]]\n",
    "    for year in [2018]:\n",
    "        temp_year = temp.loc[temp['YEAR'] == year]\n",
    "        count = temp_year.groupby([\"MONTH\", \"YEAR\"]).count()\n",
    "        count = count[\"INCIDENT_NUMBER\"].loc[count.index[0]]\n",
    "        df_my.loc[len(df_my.index)] = [year, count, month]\n",
    "\n",
    "df_my = df_my.pivot(index='MONTH', columns='YEAR', values=\"INCIDENT_NUMBER\")\n",
    "\n",
    "print(df_my)\n",
    "\n",
    "df_my.plot(kind=\"bar\",figsize=(20,3))"
   ]
  },
  {
   "cell_type": "markdown",
   "metadata": {},
   "source": [
    "### Group by offenses types"
   ]
  },
  {
   "cell_type": "code",
   "execution_count": 34,
   "metadata": {},
   "outputs": [
    {
     "data": {
      "text/plain": [
       "<AxesSubplot:xlabel='OFFENSE_CODE_GROUP'>"
      ]
     },
     "execution_count": 34,
     "metadata": {},
     "output_type": "execute_result"
    },
    {
     "data": {
      "image/png": "[encoded data removed]",
      "text/plain": [
       "<Figure size 1440x216 with 1 Axes>"
      ]
     },
     "metadata": {
      "needs_background": "light"
     },
     "output_type": "display_data"
    }
   ],
   "source": [
    "#df_sum_type=dataFrame = pd.DataFrame(df.head(), columns=[\"OFFENSE_TYPE_ID\"])\n",
    "#df_sum_type.plot(x=\"OFFENSE_TYPE_ID\", kind=\"bar\", figsize=(10, 9))\n",
    "\n",
    "sums= df.groupby(\"OFFENSE_CODE_GROUP\")[\"OFFENSE_CODE_GROUP\"].count()\n",
    "sums= sums.sort_values(ascending=False)[:19]\n",
    "sums.plot(x=\"Offense type\", kind=\"bar\", figsize=(20,3))\n"
   ]
  },
  {
   "cell_type": "markdown",
   "metadata": {},
   "source": [
    "## Group by years and  offense\n",
    "\n",
    "Top 20 type of offenses types over the years (not year by year), and their evolution"
   ]
  },
  {
   "cell_type": "code",
   "execution_count": 35,
   "metadata": {},
   "outputs": [],
   "source": [
    "# Init\n",
    "\n",
    "top20_offenses = df.groupby([\"OFFENSE_CODE_GROUP\"])[\"OFFENSE_CODE_GROUP\"].count()\n",
    "top20_offenses = top20_offenses.sort_values(ascending=False)[:19]\n",
    "\n",
    "df_offenses20 = df.loc[df['OFFENSE_CODE_GROUP'].isin(top20_offenses.keys())]\n",
    "\n"
   ]
  },
  {
   "cell_type": "code",
   "execution_count": 36,
   "metadata": {},
   "outputs": [
    {
     "name": "stdout",
     "output_type": "stream",
     "text": [
      "                     INCIDENT_NUMBER  year\n",
      "Aggravated Assault              1386  2015\n",
      "Drug Violation                  3300  2015\n",
      "Fraud                            994  2015\n",
      "Investigate Person              2511  2015\n",
      "Investigate Property            1269  2015\n",
      "...                              ...   ...\n",
      "Towed                           2554  2018\n",
      "Vandalism                       2814  2018\n",
      "Verbal Disputes                 3055  2018\n",
      "Violations                      1204  2018\n",
      "Warrant Arrests                 1153  2018\n",
      "\n",
      "[76 rows x 2 columns]\n"
     ]
    },
    {
     "data": {
      "text/plain": [
       "<AxesSubplot:>"
      ]
     },
     "execution_count": 36,
     "metadata": {},
     "output_type": "execute_result"
    },
    {
     "data": {
      "image/png": "[encoded data removed]",
      "text/plain": [
       "<Figure size 1440x216 with 1 Axes>"
      ]
     },
     "metadata": {
      "needs_background": "light"
     },
     "output_type": "display_data"
    }
   ],
   "source": [
    "df_data = pd.DataFrame(data=None, columns=[ \"INCIDENT_NUMBER\",\"year\"])\n",
    "for i in years:\n",
    "    temp = df_offenses20.loc[df_offenses20['YEAR'] == i][[\"OFFENSE_CODE_GROUP\",\"YEAR\", \"INCIDENT_NUMBER\"]].groupby([\"OFFENSE_CODE_GROUP\"]).count()\n",
    "    temp = temp['INCIDENT_NUMBER']\n",
    "    temp = pd.DataFrame(data=temp)\n",
    "    temp = temp.assign(year=i)\n",
    "    df_data = pd.concat([df_data,temp])\n",
    "\n",
    "print(df_data)\n",
    "df_data = df_data.pivot(columns=\"year\")\n",
    "\n",
    "df_data.plot.bar(figsize=(20,3))"
   ]
  },
  {
   "cell_type": "markdown",
   "metadata": {},
   "source": [
    "We can notice that offenses are rising each year unless they are traffic related, which could be explained by lockdowns during the pandemic."
   ]
  },
  {
   "cell_type": "code",
   "execution_count": 37,
   "metadata": {},
   "outputs": [
    {
     "ename": "KeyError",
     "evalue": "'OFFENSE_TYPE_ID'",
     "output_type": "error",
     "traceback": [
      "\u001b[0;31m---------------------------------------------------------------------------\u001b[0m",
      "\u001b[0;31mKeyError\u001b[0m                                  Traceback (most recent call last)",
      "\u001b[1;32m/home/hg/workspace/DA/Boston/Boston.ipynb Cell 21'\u001b[0m in \u001b[0;36m<cell line: 2>\u001b[0;34m()\u001b[0m\n\u001b[1;32m      <a href='vscode-notebook-cell://wsl%2Bubuntu/home/hg/workspace/DA/Boston/Boston.ipynb#ch0000020vscode-remote?line=0'>1</a>\u001b[0m \u001b[39m# This is the old version of the previous graph\u001b[39;00m\n\u001b[0;32m----> <a href='vscode-notebook-cell://wsl%2Bubuntu/home/hg/workspace/DA/Boston/Boston.ipynb#ch0000020vscode-remote?line=1'>2</a>\u001b[0m top20_offenses \u001b[39m=\u001b[39m df\u001b[39m.\u001b[39;49mgroupby([\u001b[39m\"\u001b[39;49m\u001b[39mOFFENSE_TYPE_ID\u001b[39;49m\u001b[39m\"\u001b[39;49m])[\u001b[39m\"\u001b[39m\u001b[39mOFFENSE_TYPE_ID\u001b[39m\u001b[39m\"\u001b[39m]\u001b[39m.\u001b[39mcount()\n\u001b[1;32m      <a href='vscode-notebook-cell://wsl%2Bubuntu/home/hg/workspace/DA/Boston/Boston.ipynb#ch0000020vscode-remote?line=2'>3</a>\u001b[0m top20_offenses \u001b[39m=\u001b[39m top20_offenses\u001b[39m.\u001b[39msort_values(ascending\u001b[39m=\u001b[39m\u001b[39mFalse\u001b[39;00m)[:\u001b[39m19\u001b[39m]\n\u001b[1;32m      <a href='vscode-notebook-cell://wsl%2Bubuntu/home/hg/workspace/DA/Boston/Boston.ipynb#ch0000020vscode-remote?line=3'>4</a>\u001b[0m \u001b[39m#top20_offenses\u001b[39;00m\n",
      "File \u001b[0;32m~/workspace/DA/venv/lib/python3.8/site-packages/pandas/core/frame.py:7712\u001b[0m, in \u001b[0;36mDataFrame.groupby\u001b[0;34m(self, by, axis, level, as_index, sort, group_keys, squeeze, observed, dropna)\u001b[0m\n\u001b[1;32m   7707\u001b[0m axis \u001b[39m=\u001b[39m \u001b[39mself\u001b[39m\u001b[39m.\u001b[39m_get_axis_number(axis)\n\u001b[1;32m   7709\u001b[0m \u001b[39m# https://github.com/python/mypy/issues/7642\u001b[39;00m\n\u001b[1;32m   7710\u001b[0m \u001b[39m# error: Argument \"squeeze\" to \"DataFrameGroupBy\" has incompatible type\u001b[39;00m\n\u001b[1;32m   7711\u001b[0m \u001b[39m# \"Union[bool, NoDefault]\"; expected \"bool\"\u001b[39;00m\n\u001b[0;32m-> 7712\u001b[0m \u001b[39mreturn\u001b[39;00m DataFrameGroupBy(\n\u001b[1;32m   7713\u001b[0m     obj\u001b[39m=\u001b[39;49m\u001b[39mself\u001b[39;49m,\n\u001b[1;32m   7714\u001b[0m     keys\u001b[39m=\u001b[39;49mby,\n\u001b[1;32m   7715\u001b[0m     axis\u001b[39m=\u001b[39;49maxis,\n\u001b[1;32m   7716\u001b[0m     level\u001b[39m=\u001b[39;49mlevel,\n\u001b[1;32m   7717\u001b[0m     as_index\u001b[39m=\u001b[39;49mas_index,\n\u001b[1;32m   7718\u001b[0m     sort\u001b[39m=\u001b[39;49msort,\n\u001b[1;32m   7719\u001b[0m     group_keys\u001b[39m=\u001b[39;49mgroup_keys,\n\u001b[1;32m   7720\u001b[0m     squeeze\u001b[39m=\u001b[39;49msqueeze,  \u001b[39m# type: ignore[arg-type]\u001b[39;49;00m\n\u001b[1;32m   7721\u001b[0m     observed\u001b[39m=\u001b[39;49mobserved,\n\u001b[1;32m   7722\u001b[0m     dropna\u001b[39m=\u001b[39;49mdropna,\n\u001b[1;32m   7723\u001b[0m )\n",
      "File \u001b[0;32m~/workspace/DA/venv/lib/python3.8/site-packages/pandas/core/groupby/groupby.py:882\u001b[0m, in \u001b[0;36mGroupBy.__init__\u001b[0;34m(self, obj, keys, axis, level, grouper, exclusions, selection, as_index, sort, group_keys, squeeze, observed, mutated, dropna)\u001b[0m\n\u001b[1;32m    879\u001b[0m \u001b[39mif\u001b[39;00m grouper \u001b[39mis\u001b[39;00m \u001b[39mNone\u001b[39;00m:\n\u001b[1;32m    880\u001b[0m     \u001b[39mfrom\u001b[39;00m \u001b[39mpandas\u001b[39;00m\u001b[39m.\u001b[39;00m\u001b[39mcore\u001b[39;00m\u001b[39m.\u001b[39;00m\u001b[39mgroupby\u001b[39;00m\u001b[39m.\u001b[39;00m\u001b[39mgrouper\u001b[39;00m \u001b[39mimport\u001b[39;00m get_grouper\n\u001b[0;32m--> 882\u001b[0m     grouper, exclusions, obj \u001b[39m=\u001b[39m get_grouper(\n\u001b[1;32m    883\u001b[0m         obj,\n\u001b[1;32m    884\u001b[0m         keys,\n\u001b[1;32m    885\u001b[0m         axis\u001b[39m=\u001b[39;49maxis,\n\u001b[1;32m    886\u001b[0m         level\u001b[39m=\u001b[39;49mlevel,\n\u001b[1;32m    887\u001b[0m         sort\u001b[39m=\u001b[39;49msort,\n\u001b[1;32m    888\u001b[0m         observed\u001b[39m=\u001b[39;49mobserved,\n\u001b[1;32m    889\u001b[0m         mutated\u001b[39m=\u001b[39;49m\u001b[39mself\u001b[39;49m\u001b[39m.\u001b[39;49mmutated,\n\u001b[1;32m    890\u001b[0m         dropna\u001b[39m=\u001b[39;49m\u001b[39mself\u001b[39;49m\u001b[39m.\u001b[39;49mdropna,\n\u001b[1;32m    891\u001b[0m     )\n\u001b[1;32m    893\u001b[0m \u001b[39mself\u001b[39m\u001b[39m.\u001b[39mobj \u001b[39m=\u001b[39m obj\n\u001b[1;32m    894\u001b[0m \u001b[39mself\u001b[39m\u001b[39m.\u001b[39maxis \u001b[39m=\u001b[39m obj\u001b[39m.\u001b[39m_get_axis_number(axis)\n",
      "File \u001b[0;32m~/workspace/DA/venv/lib/python3.8/site-packages/pandas/core/groupby/grouper.py:882\u001b[0m, in \u001b[0;36mget_grouper\u001b[0;34m(obj, key, axis, level, sort, observed, mutated, validate, dropna)\u001b[0m\n\u001b[1;32m    880\u001b[0m         in_axis, level, gpr \u001b[39m=\u001b[39m \u001b[39mFalse\u001b[39;00m, gpr, \u001b[39mNone\u001b[39;00m\n\u001b[1;32m    881\u001b[0m     \u001b[39melse\u001b[39;00m:\n\u001b[0;32m--> 882\u001b[0m         \u001b[39mraise\u001b[39;00m \u001b[39mKeyError\u001b[39;00m(gpr)\n\u001b[1;32m    883\u001b[0m \u001b[39melif\u001b[39;00m \u001b[39misinstance\u001b[39m(gpr, Grouper) \u001b[39mand\u001b[39;00m gpr\u001b[39m.\u001b[39mkey \u001b[39mis\u001b[39;00m \u001b[39mnot\u001b[39;00m \u001b[39mNone\u001b[39;00m:\n\u001b[1;32m    884\u001b[0m     \u001b[39m# Add key to exclusions\u001b[39;00m\n\u001b[1;32m    885\u001b[0m     exclusions\u001b[39m.\u001b[39madd(gpr\u001b[39m.\u001b[39mkey)\n",
      "\u001b[0;31mKeyError\u001b[0m: 'OFFENSE_TYPE_ID'"
     ]
    }
   ],
   "source": [
    "# This is the old version of the previous graph\n",
    "top20_offenses = df.groupby([\"OFFENSE_TYPE_ID\"])[\"OFFENSE_TYPE_ID\"].count()\n",
    "top20_offenses = top20_offenses.sort_values(ascending=False)[:19]\n",
    "#top20_offenses\n",
    "\n",
    "df_offenses20 = df.loc[df['OFFENSE_TYPE_ID'].isin(top20_offenses.keys())]\n",
    "df_offenses20 = df_offenses20[[\"OFFENSE_TYPE_ID\",\"YEAR\", \"INCIDENT_NUMBER\"]].groupby([\"OFFENSE_TYPE_ID\",\"YEAR\"])\n",
    "\n",
    "df_offenses20.count().plot(kind=\"bar\",figsize=(20,3))"
   ]
  },
  {
   "cell_type": "markdown",
   "metadata": {},
   "source": [
    "# Offenses by district"
   ]
  },
  {
   "cell_type": "code",
   "execution_count": null,
   "metadata": {},
   "outputs": [],
   "source": [
    "districts = [1,2,3,4,5,6,7]"
   ]
  },
  {
   "cell_type": "markdown",
   "metadata": {},
   "source": [
    "## Offenses by district by year"
   ]
  },
  {
   "cell_type": "code",
   "execution_count": 38,
   "metadata": {},
   "outputs": [
    {
     "data": {
      "text/plain": [
       "<AxesSubplot:xlabel='DISTRICT,YEAR'>"
      ]
     },
     "execution_count": 38,
     "metadata": {},
     "output_type": "execute_result"
    },
    {
     "data": {
      "image/png": "[encoded data removed]",
      "text/plain": [
       "<Figure size 1440x216 with 1 Axes>"
      ]
     },
     "metadata": {
      "needs_background": "light"
     },
     "output_type": "display_data"
    }
   ],
   "source": [
    "\n",
    "df_offdist = df[[\"YEAR\", \"INCIDENT_NUMBER\",\"DISTRICT\"]].groupby([\"DISTRICT\",\"YEAR\"])\n",
    "\n",
    "df_offdist.count().plot(kind=\"bar\",figsize=(20,3))\n",
    "\n",
    "#df_offdist.get_group((1.0, 2017)).count()"
   ]
  },
  {
   "cell_type": "code",
   "execution_count": 39,
   "metadata": {},
   "outputs": [
    {
     "ename": "NameError",
     "evalue": "name 'districts' is not defined",
     "output_type": "error",
     "traceback": [
      "\u001b[0;31m---------------------------------------------------------------------------\u001b[0m",
      "\u001b[0;31mNameError\u001b[0m                                 Traceback (most recent call last)",
      "\u001b[1;32m/home/hg/workspace/DA/Boston/Boston.ipynb Cell 26'\u001b[0m in \u001b[0;36m<cell line: 4>\u001b[0;34m()\u001b[0m\n\u001b[1;32m      <a href='vscode-notebook-cell://wsl%2Bubuntu/home/hg/workspace/DA/Boston/Boston.ipynb#ch0000025vscode-remote?line=0'>1</a>\u001b[0m \u001b[39m# work in progress\u001b[39;00m\n\u001b[1;32m      <a href='vscode-notebook-cell://wsl%2Bubuntu/home/hg/workspace/DA/Boston/Boston.ipynb#ch0000025vscode-remote?line=2'>3</a>\u001b[0m df_offdist \u001b[39m=\u001b[39m pd\u001b[39m.\u001b[39mDataFrame(data\u001b[39m=\u001b[39m\u001b[39mNone\u001b[39;00m, columns\u001b[39m=\u001b[39m[\u001b[39m\"\u001b[39m\u001b[39mYEAR\u001b[39m\u001b[39m\"\u001b[39m, \u001b[39m\"\u001b[39m\u001b[39moffense_id\u001b[39m\u001b[39m\"\u001b[39m,\u001b[39m\"\u001b[39m\u001b[39mDISTRICT_ID\u001b[39m\u001b[39m\"\u001b[39m])\n\u001b[0;32m----> <a href='vscode-notebook-cell://wsl%2Bubuntu/home/hg/workspace/DA/Boston/Boston.ipynb#ch0000025vscode-remote?line=3'>4</a>\u001b[0m \u001b[39mfor\u001b[39;00m district \u001b[39min\u001b[39;00m districts:\n\u001b[1;32m      <a href='vscode-notebook-cell://wsl%2Bubuntu/home/hg/workspace/DA/Boston/Boston.ipynb#ch0000025vscode-remote?line=4'>5</a>\u001b[0m     temp \u001b[39m=\u001b[39m df\u001b[39m.\u001b[39mloc[df[\u001b[39m'\u001b[39m\u001b[39mDISTRICT_ID\u001b[39m\u001b[39m'\u001b[39m] \u001b[39m==\u001b[39m district][[\u001b[39m\"\u001b[39m\u001b[39mYEAR\u001b[39m\u001b[39m\"\u001b[39m, \u001b[39m\"\u001b[39m\u001b[39moffense_id\u001b[39m\u001b[39m\"\u001b[39m,\u001b[39m\"\u001b[39m\u001b[39mDISTRICT_ID\u001b[39m\u001b[39m\"\u001b[39m]]\n\u001b[1;32m      <a href='vscode-notebook-cell://wsl%2Bubuntu/home/hg/workspace/DA/Boston/Boston.ipynb#ch0000025vscode-remote?line=6'>7</a>\u001b[0m     \u001b[39mfor\u001b[39;00m year \u001b[39min\u001b[39;00m years:\n",
      "\u001b[0;31mNameError\u001b[0m: name 'districts' is not defined"
     ]
    }
   ],
   "source": [
    "# work in progress\n",
    "\n",
    "df_offdist = pd.DataFrame(data=None, columns=[\"YEAR\", \"offense_id\",\"DISTRICT_ID\"])\n",
    "for district in districts:\n",
    "    temp = df.loc[df['DISTRICT_ID'] == district][[\"YEAR\", \"offense_id\",\"DISTRICT_ID\"]]\n",
    "    \n",
    "    for year in years:\n",
    "        temp_year = temp.loc[temp['YEAR'] == year]\n",
    "        count = temp_year.groupby([\"DISTRICT_ID\", \"YEAR\"]).count()\n",
    "        count =count[\"offense_id\"].loc[count.index[0]]\n",
    "        df_offdist.loc[len(df_offdist.index)] = [year, count, district]\n",
    "\n",
    "df_offdist = df_offdist.pivot(index='DISTRICT_ID', columns='YEAR', values=\"offense_id\")\n",
    "\n",
    "df_offdist.plot(kind=\"bar\",figsize=(20,3))\n",
    "\n"
   ]
  },
  {
   "cell_type": "markdown",
   "metadata": {},
   "source": [
    "## Offenses by district by type"
   ]
  },
  {
   "cell_type": "code",
   "execution_count": null,
   "metadata": {},
   "outputs": [
    {
     "data": {
      "text/plain": [
       "<AxesSubplot:xlabel='DISTRICT_ID,OFFENSE_TYPE_ID'>"
      ]
     },
     "execution_count": 27,
     "metadata": {},
     "output_type": "execute_result"
    },
    {
     "data": {
      "image/png": "[encoded data removed]",
      "text/plain": [
       "<Figure size 1440x216 with 1 Axes>"
      ]
     },
     "metadata": {
      "needs_background": "light"
     },
     "output_type": "display_data"
    }
   ],
   "source": [
    "df_offenses20 = df.loc[df['OFFENSE_TYPE_ID'].isin(top20_offenses.keys())]\n",
    "df_offdisttype = df_offenses20[[\"OFFENSE_TYPE_ID\", \"offense_id\",\"DISTRICT_ID\"]].groupby([\"DISTRICT_ID\",\"OFFENSE_TYPE_ID\"])\n",
    "\n",
    "df_offdisttype.count().plot(kind=\"bar\",figsize=(20,3))"
   ]
  },
  {
   "cell_type": "markdown",
   "metadata": {},
   "source": [
    "## Correlations"
   ]
  },
  {
   "cell_type": "code",
   "execution_count": null,
   "metadata": {},
   "outputs": [
    {
     "data": {
      "text/html": [
       "<div>\n",
       "<style scoped>\n",
       "    .dataframe tbody tr th:only-of-type {\n",
       "        vertical-align: middle;\n",
       "    }\n",
       "\n",
       "    .dataframe tbody tr th {\n",
       "        vertical-align: top;\n",
       "    }\n",
       "\n",
       "    .dataframe thead th {\n",
       "        text-align: right;\n",
       "    }\n",
       "</style>\n",
       "<table border=\"1\" class=\"dataframe\">\n",
       "  <thead>\n",
       "    <tr style=\"text-align: right;\">\n",
       "      <th></th>\n",
       "      <th>offense_id</th>\n",
       "      <th>OFFENSE_CODE</th>\n",
       "      <th>OFFENSE_CODE_EXTENSION</th>\n",
       "      <th>GEO_X</th>\n",
       "      <th>GEO_Y</th>\n",
       "      <th>GEO_LON</th>\n",
       "      <th>GEO_LAT</th>\n",
       "      <th>DISTRICT_ID</th>\n",
       "      <th>PRECINCT_ID</th>\n",
       "      <th>IS_CRIME</th>\n",
       "      <th>IS_TRAFFIC</th>\n",
       "      <th>YEAR</th>\n",
       "      <th>MONTH</th>\n",
       "      <th>DAY</th>\n",
       "      <th>DOW</th>\n",
       "      <th>TIME</th>\n",
       "    </tr>\n",
       "  </thead>\n",
       "  <tbody>\n",
       "    <tr>\n",
       "      <th>offense_id</th>\n",
       "      <td>1.000000</td>\n",
       "      <td>-0.105059</td>\n",
       "      <td>0.022171</td>\n",
       "      <td>-0.000723</td>\n",
       "      <td>0.001071</td>\n",
       "      <td>-0.000393</td>\n",
       "      <td>0.004114</td>\n",
       "      <td>0.032794</td>\n",
       "      <td>0.035638</td>\n",
       "      <td>0.087627</td>\n",
       "      <td>-0.087804</td>\n",
       "      <td>0.052151</td>\n",
       "      <td>0.027320</td>\n",
       "      <td>0.003473</td>\n",
       "      <td>-0.022761</td>\n",
       "      <td>0.001788</td>\n",
       "    </tr>\n",
       "    <tr>\n",
       "      <th>OFFENSE_CODE</th>\n",
       "      <td>-0.105059</td>\n",
       "      <td>1.000000</td>\n",
       "      <td>-0.078267</td>\n",
       "      <td>0.011136</td>\n",
       "      <td>0.011985</td>\n",
       "      <td>0.010895</td>\n",
       "      <td>-0.009336</td>\n",
       "      <td>-0.032701</td>\n",
       "      <td>-0.032809</td>\n",
       "      <td>-0.611141</td>\n",
       "      <td>0.612159</td>\n",
       "      <td>-0.138805</td>\n",
       "      <td>-0.033531</td>\n",
       "      <td>-0.004819</td>\n",
       "      <td>0.008600</td>\n",
       "      <td>0.012657</td>\n",
       "    </tr>\n",
       "    <tr>\n",
       "      <th>OFFENSE_CODE_EXTENSION</th>\n",
       "      <td>0.022171</td>\n",
       "      <td>-0.078267</td>\n",
       "      <td>1.000000</td>\n",
       "      <td>-0.002881</td>\n",
       "      <td>-0.001570</td>\n",
       "      <td>-0.002818</td>\n",
       "      <td>0.003742</td>\n",
       "      <td>0.018056</td>\n",
       "      <td>0.018617</td>\n",
       "      <td>0.196977</td>\n",
       "      <td>-0.197298</td>\n",
       "      <td>0.011916</td>\n",
       "      <td>0.000177</td>\n",
       "      <td>-0.000236</td>\n",
       "      <td>0.019339</td>\n",
       "      <td>-0.008578</td>\n",
       "    </tr>\n",
       "    <tr>\n",
       "      <th>GEO_X</th>\n",
       "      <td>-0.000723</td>\n",
       "      <td>0.011136</td>\n",
       "      <td>-0.002881</td>\n",
       "      <td>1.000000</td>\n",
       "      <td>0.775433</td>\n",
       "      <td>0.999959</td>\n",
       "      <td>-0.996936</td>\n",
       "      <td>0.041802</td>\n",
       "      <td>0.046151</td>\n",
       "      <td>-0.019263</td>\n",
       "      <td>0.019518</td>\n",
       "      <td>-0.005679</td>\n",
       "      <td>-0.006655</td>\n",
       "      <td>-0.000081</td>\n",
       "      <td>-0.000591</td>\n",
       "      <td>-0.004270</td>\n",
       "    </tr>\n",
       "    <tr>\n",
       "      <th>GEO_Y</th>\n",
       "      <td>0.001071</td>\n",
       "      <td>0.011985</td>\n",
       "      <td>-0.001570</td>\n",
       "      <td>0.775433</td>\n",
       "      <td>1.000000</td>\n",
       "      <td>0.996169</td>\n",
       "      <td>-0.987970</td>\n",
       "      <td>0.043458</td>\n",
       "      <td>0.047334</td>\n",
       "      <td>-0.014602</td>\n",
       "      <td>0.014777</td>\n",
       "      <td>-0.003712</td>\n",
       "      <td>-0.003585</td>\n",
       "      <td>-0.001000</td>\n",
       "      <td>-0.001447</td>\n",
       "      <td>-0.002246</td>\n",
       "    </tr>\n",
       "    <tr>\n",
       "      <th>GEO_LON</th>\n",
       "      <td>-0.000393</td>\n",
       "      <td>0.010895</td>\n",
       "      <td>-0.002818</td>\n",
       "      <td>0.999959</td>\n",
       "      <td>0.996169</td>\n",
       "      <td>1.000000</td>\n",
       "      <td>-0.996407</td>\n",
       "      <td>0.043983</td>\n",
       "      <td>0.048471</td>\n",
       "      <td>-0.019144</td>\n",
       "      <td>0.019399</td>\n",
       "      <td>-0.005482</td>\n",
       "      <td>-0.006849</td>\n",
       "      <td>0.000063</td>\n",
       "      <td>-0.000520</td>\n",
       "      <td>-0.004317</td>\n",
       "    </tr>\n",
       "    <tr>\n",
       "      <th>GEO_LAT</th>\n",
       "      <td>0.004114</td>\n",
       "      <td>-0.009336</td>\n",
       "      <td>0.003742</td>\n",
       "      <td>-0.996936</td>\n",
       "      <td>-0.987970</td>\n",
       "      <td>-0.996407</td>\n",
       "      <td>1.000000</td>\n",
       "      <td>-0.027676</td>\n",
       "      <td>-0.031479</td>\n",
       "      <td>0.019700</td>\n",
       "      <td>-0.019971</td>\n",
       "      <td>0.007347</td>\n",
       "      <td>0.006792</td>\n",
       "      <td>0.000090</td>\n",
       "      <td>0.000080</td>\n",
       "      <td>0.004831</td>\n",
       "    </tr>\n",
       "    <tr>\n",
       "      <th>DISTRICT_ID</th>\n",
       "      <td>0.032794</td>\n",
       "      <td>-0.032701</td>\n",
       "      <td>0.018056</td>\n",
       "      <td>0.041802</td>\n",
       "      <td>0.043458</td>\n",
       "      <td>0.043983</td>\n",
       "      <td>-0.027676</td>\n",
       "      <td>1.000000</td>\n",
       "      <td>0.999134</td>\n",
       "      <td>0.082512</td>\n",
       "      <td>-0.082641</td>\n",
       "      <td>0.010969</td>\n",
       "      <td>-0.000804</td>\n",
       "      <td>0.002086</td>\n",
       "      <td>0.010764</td>\n",
       "      <td>0.010582</td>\n",
       "    </tr>\n",
       "    <tr>\n",
       "      <th>PRECINCT_ID</th>\n",
       "      <td>0.035638</td>\n",
       "      <td>-0.032809</td>\n",
       "      <td>0.018617</td>\n",
       "      <td>0.046151</td>\n",
       "      <td>0.047334</td>\n",
       "      <td>0.048471</td>\n",
       "      <td>-0.031479</td>\n",
       "      <td>0.999134</td>\n",
       "      <td>1.000000</td>\n",
       "      <td>0.082763</td>\n",
       "      <td>-0.082891</td>\n",
       "      <td>0.011129</td>\n",
       "      <td>-0.000663</td>\n",
       "      <td>0.002209</td>\n",
       "      <td>0.010408</td>\n",
       "      <td>0.010645</td>\n",
       "    </tr>\n",
       "    <tr>\n",
       "      <th>IS_CRIME</th>\n",
       "      <td>0.087627</td>\n",
       "      <td>-0.611141</td>\n",
       "      <td>0.196977</td>\n",
       "      <td>-0.019263</td>\n",
       "      <td>-0.014602</td>\n",
       "      <td>-0.019144</td>\n",
       "      <td>0.019700</td>\n",
       "      <td>0.082512</td>\n",
       "      <td>0.082763</td>\n",
       "      <td>1.000000</td>\n",
       "      <td>-0.998374</td>\n",
       "      <td>0.082076</td>\n",
       "      <td>-0.001736</td>\n",
       "      <td>0.005584</td>\n",
       "      <td>0.011098</td>\n",
       "      <td>-0.022456</td>\n",
       "    </tr>\n",
       "    <tr>\n",
       "      <th>IS_TRAFFIC</th>\n",
       "      <td>-0.087804</td>\n",
       "      <td>0.612159</td>\n",
       "      <td>-0.197298</td>\n",
       "      <td>0.019518</td>\n",
       "      <td>0.014777</td>\n",
       "      <td>0.019399</td>\n",
       "      <td>-0.019971</td>\n",
       "      <td>-0.082641</td>\n",
       "      <td>-0.082891</td>\n",
       "      <td>-0.998374</td>\n",
       "      <td>1.000000</td>\n",
       "      <td>-0.081933</td>\n",
       "      <td>0.001939</td>\n",
       "      <td>-0.005607</td>\n",
       "      <td>-0.010559</td>\n",
       "      <td>0.022161</td>\n",
       "    </tr>\n",
       "    <tr>\n",
       "      <th>YEAR</th>\n",
       "      <td>0.052151</td>\n",
       "      <td>-0.138805</td>\n",
       "      <td>0.011916</td>\n",
       "      <td>-0.005679</td>\n",
       "      <td>-0.003712</td>\n",
       "      <td>-0.005482</td>\n",
       "      <td>0.007347</td>\n",
       "      <td>0.010969</td>\n",
       "      <td>0.011129</td>\n",
       "      <td>0.082076</td>\n",
       "      <td>-0.081933</td>\n",
       "      <td>1.000000</td>\n",
       "      <td>0.002298</td>\n",
       "      <td>-0.002769</td>\n",
       "      <td>0.000418</td>\n",
       "      <td>-0.018128</td>\n",
       "    </tr>\n",
       "    <tr>\n",
       "      <th>MONTH</th>\n",
       "      <td>0.027320</td>\n",
       "      <td>-0.033531</td>\n",
       "      <td>0.000177</td>\n",
       "      <td>-0.006655</td>\n",
       "      <td>-0.003585</td>\n",
       "      <td>-0.006849</td>\n",
       "      <td>0.006792</td>\n",
       "      <td>-0.000804</td>\n",
       "      <td>-0.000663</td>\n",
       "      <td>-0.001736</td>\n",
       "      <td>0.001939</td>\n",
       "      <td>0.002298</td>\n",
       "      <td>1.000000</td>\n",
       "      <td>-0.007336</td>\n",
       "      <td>0.004226</td>\n",
       "      <td>-0.002673</td>\n",
       "    </tr>\n",
       "    <tr>\n",
       "      <th>DAY</th>\n",
       "      <td>0.003473</td>\n",
       "      <td>-0.004819</td>\n",
       "      <td>-0.000236</td>\n",
       "      <td>-0.000081</td>\n",
       "      <td>-0.001000</td>\n",
       "      <td>0.000063</td>\n",
       "      <td>0.000090</td>\n",
       "      <td>0.002086</td>\n",
       "      <td>0.002209</td>\n",
       "      <td>0.005584</td>\n",
       "      <td>-0.005607</td>\n",
       "      <td>-0.002769</td>\n",
       "      <td>-0.007336</td>\n",
       "      <td>1.000000</td>\n",
       "      <td>0.003110</td>\n",
       "      <td>0.002650</td>\n",
       "    </tr>\n",
       "    <tr>\n",
       "      <th>DOW</th>\n",
       "      <td>-0.022761</td>\n",
       "      <td>0.008600</td>\n",
       "      <td>0.019339</td>\n",
       "      <td>-0.000591</td>\n",
       "      <td>-0.001447</td>\n",
       "      <td>-0.000520</td>\n",
       "      <td>0.000080</td>\n",
       "      <td>0.010764</td>\n",
       "      <td>0.010408</td>\n",
       "      <td>0.011098</td>\n",
       "      <td>-0.010559</td>\n",
       "      <td>0.000418</td>\n",
       "      <td>0.004226</td>\n",
       "      <td>0.003110</td>\n",
       "      <td>1.000000</td>\n",
       "      <td>-0.014965</td>\n",
       "    </tr>\n",
       "    <tr>\n",
       "      <th>TIME</th>\n",
       "      <td>0.001788</td>\n",
       "      <td>0.012657</td>\n",
       "      <td>-0.008578</td>\n",
       "      <td>-0.004270</td>\n",
       "      <td>-0.002246</td>\n",
       "      <td>-0.004317</td>\n",
       "      <td>0.004831</td>\n",
       "      <td>0.010582</td>\n",
       "      <td>0.010645</td>\n",
       "      <td>-0.022456</td>\n",
       "      <td>0.022161</td>\n",
       "      <td>-0.018128</td>\n",
       "      <td>-0.002673</td>\n",
       "      <td>0.002650</td>\n",
       "      <td>-0.014965</td>\n",
       "      <td>1.000000</td>\n",
       "    </tr>\n",
       "  </tbody>\n",
       "</table>\n",
       "</div>"
      ],
      "text/plain": [
       "                        offense_id  OFFENSE_CODE  OFFENSE_CODE_EXTENSION  \\\n",
       "offense_id                1.000000     -0.105059                0.022171   \n",
       "OFFENSE_CODE             -0.105059      1.000000               -0.078267   \n",
       "OFFENSE_CODE_EXTENSION    0.022171     -0.078267                1.000000   \n",
       "GEO_X                    -0.000723      0.011136               -0.002881   \n",
       "GEO_Y                     0.001071      0.011985               -0.001570   \n",
       "GEO_LON                  -0.000393      0.010895               -0.002818   \n",
       "GEO_LAT                   0.004114     -0.009336                0.003742   \n",
       "DISTRICT_ID               0.032794     -0.032701                0.018056   \n",
       "PRECINCT_ID               0.035638     -0.032809                0.018617   \n",
       "IS_CRIME                  0.087627     -0.611141                0.196977   \n",
       "IS_TRAFFIC               -0.087804      0.612159               -0.197298   \n",
       "YEAR                      0.052151     -0.138805                0.011916   \n",
       "MONTH                     0.027320     -0.033531                0.000177   \n",
       "DAY                       0.003473     -0.004819               -0.000236   \n",
       "DOW                      -0.022761      0.008600                0.019339   \n",
       "TIME                      0.001788      0.012657               -0.008578   \n",
       "\n",
       "                           GEO_X     GEO_Y   GEO_LON   GEO_LAT  DISTRICT_ID  \\\n",
       "offense_id             -0.000723  0.001071 -0.000393  0.004114     0.032794   \n",
       "OFFENSE_CODE            0.011136  0.011985  0.010895 -0.009336    -0.032701   \n",
       "OFFENSE_CODE_EXTENSION -0.002881 -0.001570 -0.002818  0.003742     0.018056   \n",
       "GEO_X                   1.000000  0.775433  0.999959 -0.996936     0.041802   \n",
       "GEO_Y                   0.775433  1.000000  0.996169 -0.987970     0.043458   \n",
       "GEO_LON                 0.999959  0.996169  1.000000 -0.996407     0.043983   \n",
       "GEO_LAT                -0.996936 -0.987970 -0.996407  1.000000    -0.027676   \n",
       "DISTRICT_ID             0.041802  0.043458  0.043983 -0.027676     1.000000   \n",
       "PRECINCT_ID             0.046151  0.047334  0.048471 -0.031479     0.999134   \n",
       "IS_CRIME               -0.019263 -0.014602 -0.019144  0.019700     0.082512   \n",
       "IS_TRAFFIC              0.019518  0.014777  0.019399 -0.019971    -0.082641   \n",
       "YEAR                   -0.005679 -0.003712 -0.005482  0.007347     0.010969   \n",
       "MONTH                  -0.006655 -0.003585 -0.006849  0.006792    -0.000804   \n",
       "DAY                    -0.000081 -0.001000  0.000063  0.000090     0.002086   \n",
       "DOW                    -0.000591 -0.001447 -0.000520  0.000080     0.010764   \n",
       "TIME                   -0.004270 -0.002246 -0.004317  0.004831     0.010582   \n",
       "\n",
       "                        PRECINCT_ID  IS_CRIME  IS_TRAFFIC      YEAR     MONTH  \\\n",
       "offense_id                 0.035638  0.087627   -0.087804  0.052151  0.027320   \n",
       "OFFENSE_CODE              -0.032809 -0.611141    0.612159 -0.138805 -0.033531   \n",
       "OFFENSE_CODE_EXTENSION     0.018617  0.196977   -0.197298  0.011916  0.000177   \n",
       "GEO_X                      0.046151 -0.019263    0.019518 -0.005679 -0.006655   \n",
       "GEO_Y                      0.047334 -0.014602    0.014777 -0.003712 -0.003585   \n",
       "GEO_LON                    0.048471 -0.019144    0.019399 -0.005482 -0.006849   \n",
       "GEO_LAT                   -0.031479  0.019700   -0.019971  0.007347  0.006792   \n",
       "DISTRICT_ID                0.999134  0.082512   -0.082641  0.010969 -0.000804   \n",
       "PRECINCT_ID                1.000000  0.082763   -0.082891  0.011129 -0.000663   \n",
       "IS_CRIME                   0.082763  1.000000   -0.998374  0.082076 -0.001736   \n",
       "IS_TRAFFIC                -0.082891 -0.998374    1.000000 -0.081933  0.001939   \n",
       "YEAR                       0.011129  0.082076   -0.081933  1.000000  0.002298   \n",
       "MONTH                     -0.000663 -0.001736    0.001939  0.002298  1.000000   \n",
       "DAY                        0.002209  0.005584   -0.005607 -0.002769 -0.007336   \n",
       "DOW                        0.010408  0.011098   -0.010559  0.000418  0.004226   \n",
       "TIME                       0.010645 -0.022456    0.022161 -0.018128 -0.002673   \n",
       "\n",
       "                             DAY       DOW      TIME  \n",
       "offense_id              0.003473 -0.022761  0.001788  \n",
       "OFFENSE_CODE           -0.004819  0.008600  0.012657  \n",
       "OFFENSE_CODE_EXTENSION -0.000236  0.019339 -0.008578  \n",
       "GEO_X                  -0.000081 -0.000591 -0.004270  \n",
       "GEO_Y                  -0.001000 -0.001447 -0.002246  \n",
       "GEO_LON                 0.000063 -0.000520 -0.004317  \n",
       "GEO_LAT                 0.000090  0.000080  0.004831  \n",
       "DISTRICT_ID             0.002086  0.010764  0.010582  \n",
       "PRECINCT_ID             0.002209  0.010408  0.010645  \n",
       "IS_CRIME                0.005584  0.011098 -0.022456  \n",
       "IS_TRAFFIC             -0.005607 -0.010559  0.022161  \n",
       "YEAR                   -0.002769  0.000418 -0.018128  \n",
       "MONTH                  -0.007336  0.004226 -0.002673  \n",
       "DAY                     1.000000  0.003110  0.002650  \n",
       "DOW                     0.003110  1.000000 -0.014965  \n",
       "TIME                    0.002650 -0.014965  1.000000  "
      ]
     },
     "execution_count": 28,
     "metadata": {},
     "output_type": "execute_result"
    }
   ],
   "source": [
    "df_cor = df.corr() \n",
    "\n",
    "df_cor"
   ]
  },
  {
   "cell_type": "markdown",
   "metadata": {},
   "source": [
    "There is no obvious strong correlation within the dataset"
   ]
  },
  {
   "cell_type": "markdown",
   "metadata": {},
   "source": [
    "## Offenses by time of the day and type"
   ]
  },
  {
   "cell_type": "markdown",
   "metadata": {},
   "source": [
    "# Notes\n",
    "\n",
    "## Ideas\n",
    "\n",
    "- Evolutions (y2-y1)\n",
    "- Analysis by months\n",
    "- Correlations\n",
    "\n",
    "## Thesis\n",
    "\n",
    "\"Covid stay at home order impacted (temporarly) the amount of offenses in the city\"\n",
    "\"The amount of offenses were diminishing up until the end of stay at home, then they increased\""
   ]
  }
 ],
 "metadata": {
  "interpreter": {
   "hash": "225540e15615c2742bbcb2530fadd32af048361a54913dcd96210175323f5c46"
  },
  "kernelspec": {
   "display_name": "Python 3.8.10 ('venv': venv)",
   "language": "python",
   "name": "python3"
  },
  "language_info": {
   "codemirror_mode": {
    "name": "ipython",
    "version": 3
   },
   "file_extension": ".py",
   "mimetype": "text/x-python",
   "name": "python",
   "nbconvert_exporter": "python",
   "pygments_lexer": "ipython3",
   "version": "3.8.10"
  },
  "orig_nbformat": 4
 },
 "nbformat": 4,
 "nbformat_minor": 2
}
